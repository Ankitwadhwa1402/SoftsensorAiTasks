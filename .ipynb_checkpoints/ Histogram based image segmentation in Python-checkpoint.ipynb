{
 "cells": [
  {
   "cell_type": "code",
   "execution_count": null,
   "id": "db4c716d",
   "metadata": {},
   "outputs": [],
   "source": [
    "import numpy as np\n",
    "import matplotlib.pyplot as plt\n",
    "from skimage import io,img_as_float,img_as_ubyte"
   ]
  },
  {
   "cell_type": "code",
   "execution_count": null,
   "id": "207baa34",
   "metadata": {},
   "outputs": [],
   "source": [
    "from skimage.restoration import denoise_nl_means,estimate_sigma"
   ]
  },
  {
   "cell_type": "code",
   "execution_count": null,
   "id": "5635bd5a",
   "metadata": {},
   "outputs": [],
   "source": [
    "img=img_as_float(io.imread('test.jpg'))\n",
    "plt.imshow(img,cmap=\"gray\")"
   ]
  },
  {
   "cell_type": "code",
   "execution_count": null,
   "id": "6cbb319a",
   "metadata": {},
   "outputs": [],
   "source": [
    "sigma_est=np.mean(estimate_sigma(img,channel_axis=None))"
   ]
  },
  {
   "cell_type": "code",
   "execution_count": null,
   "id": "728a4b90",
   "metadata": {},
   "outputs": [],
   "source": [
    "denoise=denoise_nl_means(img,h=1.15*sigma_est,fast_mode=False,patch_size=5,patch_distance=3,channel_axis=None)"
   ]
  },
  {
   "cell_type": "code",
   "execution_count": null,
   "id": "e8cbe68f",
   "metadata": {},
   "outputs": [],
   "source": []
  }
 ],
 "metadata": {
  "kernelspec": {
   "display_name": "Python 3 (ipykernel)",
   "language": "python",
   "name": "python3"
  },
  "language_info": {
   "codemirror_mode": {
    "name": "ipython",
    "version": 3
   },
   "file_extension": ".py",
   "mimetype": "text/x-python",
   "name": "python",
   "nbconvert_exporter": "python",
   "pygments_lexer": "ipython3",
   "version": "3.10.5"
  }
 },
 "nbformat": 4,
 "nbformat_minor": 5
}
