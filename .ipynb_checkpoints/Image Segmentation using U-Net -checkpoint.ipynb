{
 "cells": [
  {
   "cell_type": "code",
   "execution_count": null,
   "id": "281526af",
   "metadata": {},
   "outputs": [],
   "source": [
    "# def buildCNN(self):\n",
    "#     conv1_1=convlayer(self.X,3,3,1,1,64,\"conv1_1\")\n",
    "#     conv1_2=convlayer(conv1_1,3,3,1,1,64,\"conv1_2\")\n",
    "#     pool1=convlayer(conv1_2,2,2,2,2,\"pool1\")\n",
    "    \n",
    "#     conv2_1=convlayer(pool1,3,3,1,1,128,\"conv2_1\")\n",
    "#     conv2_2=convlayer(conv2_1,3,3,1,1,128,\"conv2_2\")\n",
    "#     pool2=convlayer(conv2_2,2,2,2,2,\"pool2\")\n",
    "    \n",
    "#     conv3_1=convlayer(pool2,3,3,1,1,256,\"conv3_1\")\n",
    "#     conv3_2=convlayer(conv3_1,3,3,1,1,256,\"conv3_2\")\n",
    "#     conv3_3=convlayer(conv3_2,3,3,1,1,256,\"conv3_3\")\n",
    "#     conv3_4=convlayer(conv3_3,3,3,1,1,256,\"conv3_4\")\n",
    "#     pool3=convlayer(conv3_4,2,2,2,2,\"pool3\")\n",
    "    \n",
    "#     conv4_1=convlayer(pool3,3,3,1,1,512,\"conv4_1\")\n",
    "#     conv4_2=convlayer(conv4_1,3,3,1,1,512,\"conv4_2\")\n",
    "#     conv4_3=convlayer(conv4_2,3,3,1,1,512,\"conv4_3\")\n",
    "#     conv4_4=convlayer(conv4_3,3,3,1,1,512,\"conv4_4\")\n",
    "#     pool4=convlayer(conv4_4,2,2,2,2,\"pool4\")\n",
    "    \n",
    "#     conv5_1=convlayer(pool3,3,3,1,1,512,\"conv5_1\")\n",
    "#     conv5_2=convlayer(conv4_1,3,3,1,1,512,\"conv5_2\")\n",
    "#     conv5_3=convlayer(conv4_2,3,3,1,1,512,\"conv5_3\")\n",
    "#     conv5_4=convlayer(conv4_3,3,3,1,1,512,\"conv5_4\")\n",
    "#     pool5=convlayer(conv4_4,2,2,2,2,\"pool5\")\n",
    "    \n",
    "#     fcln=tf.reshape(pool5,[-1,7*7*512])\n",
    "#     fc6=fcLayer(fcln,7*7*512,4096,True,\"fc6\")\n",
    "#     dropout1=dropout(fc6,self.KEEPPRO)\n",
    "    \n",
    "#     fc7=fcLayer(dropout1,4096,4096,True,\"fc7\")\n",
    "#     dropout2=dropout(fc7,self.KEEPPRO)"
   ]
  },
  {
   "cell_type": "code",
   "execution_count": 28,
   "id": "eac26f0f",
   "metadata": {},
   "outputs": [],
   "source": [
    "import os\n",
    "import random\n",
    "import numpy as np"
   ]
  },
  {
   "cell_type": "code",
   "execution_count": 29,
   "id": "7d73aef5",
   "metadata": {},
   "outputs": [],
   "source": [
    "img_width=128\n",
    "img_height=128\n",
    "img_channels=3"
   ]
  },
  {
   "cell_type": "code",
   "execution_count": 30,
   "id": "2653aca7",
   "metadata": {},
   "outputs": [],
   "source": [
    "train_path='X-ray_image/'\n",
    "test_path='X-ray_image/'"
   ]
  },
  {
   "cell_type": "code",
   "execution_count": 49,
   "id": "403754d1",
   "metadata": {},
   "outputs": [
    {
     "data": {
      "text/plain": [
       "['1.2.826.0.1.3680043.8.498.10000428974990117276582711948006105617.jpg',\n",
       " '1.2.826.0.1.3680043.8.498.10001065121843652267743449160233082683.jpg',\n",
       " '1.2.826.0.1.3680043.8.498.10001175380298620851477409998730672515.jpg',\n",
       " '1.2.826.0.1.3680043.8.498.10001274045312501651093242392099983211.jpg',\n",
       " '1.2.826.0.1.3680043.8.498.10001645884963994872672157437761279872.jpg',\n",
       " '1.2.826.0.1.3680043.8.498.10002090428422465477470152567720822894.jpg',\n",
       " '1.2.826.0.1.3680043.8.498.10002446304107330308555550280339793610.jpg',\n",
       " '1.2.826.0.1.3680043.8.498.10002644592366004745415171692737199745.jpg',\n",
       " '1.2.826.0.1.3680043.8.498.10004680757941111877058507971361382698.jpg',\n",
       " '1.2.826.0.1.3680043.8.498.10005525179325187531381719227940587547.jpg',\n",
       " '1.2.826.0.1.3680043.8.498.10005674150895565088475033916741013432.jpg',\n",
       " '1.2.826.0.1.3680043.8.498.10006237848798781176388878065969229683.jpg',\n",
       " '1.2.826.0.1.3680043.8.498.10006345652257803920839267162509630051.jpg',\n",
       " '1.2.826.0.1.3680043.8.498.10006912914592266370941646234626874697.jpg',\n",
       " '1.2.826.0.1.3680043.8.498.10007325230839039576266816449875945674.jpg',\n",
       " '1.2.826.0.1.3680043.8.498.10008193698745944671737283077530844393.jpg',\n",
       " '1.2.826.0.1.3680043.8.498.10008918603569082587093755882910898138.jpg',\n",
       " '1.2.826.0.1.3680043.8.498.10009200682227193533239127301911164377.jpg',\n",
       " '1.2.826.0.1.3680043.8.498.10009230449649555463787687058581068839.jpg',\n",
       " '1.2.826.0.1.3680043.8.498.10009460636373382407643984386773372138.jpg',\n",
       " '1.2.826.0.1.3680043.8.498.10009804582155067294620004418359998775.jpg',\n",
       " '1.2.826.0.1.3680043.8.498.10010621324226224265011850078370952894.jpg',\n",
       " '1.2.826.0.1.3680043.8.498.10010886604924023073322417250625757580.jpg',\n",
       " '1.2.826.0.1.3680043.8.498.10011225322111935956709340361664308988.jpg',\n",
       " '1.2.826.0.1.3680043.8.498.10011303716164813363951330003247248699.jpg',\n",
       " '1.2.826.0.1.3680043.8.498.10011326142914171276323218618410985958.jpg',\n",
       " '1.2.826.0.1.3680043.8.498.10011467445158645691510394489893787804.jpg',\n",
       " '1.2.826.0.1.3680043.8.498.10011645222415989937696288265656661857.jpg',\n",
       " '1.2.826.0.1.3680043.8.498.10012076044416201719708790381665812951.jpg',\n",
       " '1.2.826.0.1.3680043.8.498.10012289245645788930532993508716817528.jpg',\n",
       " '1.2.826.0.1.3680043.8.498.10012868114746340015145674058758665450.jpg',\n",
       " '1.2.826.0.1.3680043.8.498.10013648386639413183439376787966642105.jpg',\n",
       " '1.2.826.0.1.3680043.8.498.10014189861344447674817105872580579999.jpg',\n",
       " '1.2.826.0.1.3680043.8.498.10014886751862306797439609126870364404.jpg',\n",
       " '1.2.826.0.1.3680043.8.498.10015156920643748692915108869712195069.jpg',\n",
       " '1.2.826.0.1.3680043.8.498.10015177673393521519012907205263157398.jpg',\n",
       " '1.2.826.0.1.3680043.8.498.10015404029859662112652117198439554552.jpg',\n",
       " '1.2.826.0.1.3680043.8.498.10016038448650125162506685814898382210.jpg',\n",
       " '1.2.826.0.1.3680043.8.498.10016319968940009576922094518468033666 (1).jpg',\n",
       " '1.2.826.0.1.3680043.8.498.10016434613037135591916003740058542287.jpg',\n",
       " '1.2.826.0.1.3680043.8.498.10017127632518130787233241824845923514.jpg',\n",
       " '1.2.826.0.1.3680043.8.498.10017151185038598671064029373595425922.jpg',\n",
       " '1.2.826.0.1.3680043.8.498.10017409313993952898185708955825445196.jpg',\n",
       " '1.2.826.0.1.3680043.8.498.10017646668156914666647722802604356737.jpg',\n",
       " '1.2.826.0.1.3680043.8.498.10018075252386372341630994359514356539.jpg',\n",
       " '1.2.826.0.1.3680043.8.498.10018134097668136512874044161384838875.jpg',\n",
       " '1.2.826.0.1.3680043.8.498.10018204814154657908167246779037766354.jpg',\n",
       " '1.2.826.0.1.3680043.8.498.10018307055250055778245370273733850307.jpg',\n",
       " '1.2.826.0.1.3680043.8.498.10019002689520146853818909035058664646.jpg',\n",
       " '1.2.826.0.1.3680043.8.498.10019435451845439822798422543882918364.jpg']"
      ]
     },
     "execution_count": 49,
     "metadata": {},
     "output_type": "execute_result"
    }
   ],
   "source": [
    "train_ids=next(os.walk(train_path))[2]\n",
    "test_ids=next(os.walk(test_path))[2]\n",
    "train_ids"
   ]
  },
  {
   "cell_type": "code",
   "execution_count": 84,
   "id": "4d983287",
   "metadata": {},
   "outputs": [
    {
     "name": "stderr",
     "output_type": "stream",
     "text": [
      "100%|██████████████████████████████████████████████████████████████████████████████████| 50/50 [02:09<00:00,  2.60s/it]\n"
     ]
    }
   ],
   "source": [
    "from tqdm import tqdm\n",
    "from skimage.io import imshow,imread\n",
    "import cv2\n",
    "from skimage.transform import resize\n",
    "X_train=np.zeros((len(train_ids),img_height,img_width,img_channels),dtype=np.uint8)\n",
    "Y_train=np.zeros((len(train_ids),img_height,img_width,1),dtype=bool)\n",
    "\n",
    "\n",
    "for n,id_ in tqdm(enumerate(train_ids),total=len(train_ids)):\n",
    "    path=train_path+id_\n",
    "    img=cv2.imread(path)[:,:,:img_channels]\n",
    "    img=resize(img,(img_height,img_width),mode='constant',preserve_range=True)\n",
    "    X_train[n]=img"
   ]
  },
  {
   "cell_type": "code",
   "execution_count": 85,
   "id": "6a83f12f",
   "metadata": {},
   "outputs": [],
   "source": [
    "import matplotlib.pyplot as plt"
   ]
  },
  {
   "cell_type": "code",
   "execution_count": 86,
   "id": "98a358cb",
   "metadata": {},
   "outputs": [
    {
     "data": {
      "image/png": "[encoded data removed]",
      "text/plain": [
       "<Figure size 432x288 with 1 Axes>"
      ]
     },
     "metadata": {
      "needs_background": "light"
     },
     "output_type": "display_data"
    },
    {
     "data": {
      "text/plain": [
       "48"
      ]
     },
     "execution_count": 86,
     "metadata": {},
     "output_type": "execute_result"
    }
   ],
   "source": [
    "img_x=random.randint(0,len(train_ids))\n",
    "imshow(X_train[img_x])\n",
    "plt.show()\n",
    "img_x\n"
   ]
  },
  {
   "cell_type": "code",
   "execution_count": 87,
   "id": "950b6a28",
   "metadata": {},
   "outputs": [
    {
     "data": {
      "text/plain": [
       "50"
      ]
     },
     "execution_count": 87,
     "metadata": {},
     "output_type": "execute_result"
    }
   ],
   "source": [
    "len(train_ids)"
   ]
  },
  {
   "cell_type": "code",
   "execution_count": 89,
   "id": "46846851",
   "metadata": {
    "scrolled": true
   },
   "outputs": [
    {
     "data": {
      "text/plain": [
       "array([[[170, 170, 170],\n",
       "        [184, 184, 184],\n",
       "        [171, 171, 171],\n",
       "        ...,\n",
       "        [196, 196, 196],\n",
       "        [200, 200, 200],\n",
       "        [170, 170, 170]],\n",
       "\n",
       "       [[120, 120, 120],\n",
       "        [ 97,  97,  97],\n",
       "        [ 69,  69,  69],\n",
       "        ...,\n",
       "        [166, 166, 166],\n",
       "        [178, 178, 178],\n",
       "        [158, 158, 158]],\n",
       "\n",
       "       [[ 37,  37,  37],\n",
       "        [ 16,  16,  16],\n",
       "        [  5,   5,   5],\n",
       "        ...,\n",
       "        [ 31,  31,  31],\n",
       "        [ 43,  43,  43],\n",
       "        [ 50,  50,  50]],\n",
       "\n",
       "       ...,\n",
       "\n",
       "       [[123, 123, 123],\n",
       "        [ 88,  88,  88],\n",
       "        [ 66,  66,  66],\n",
       "        ...,\n",
       "        [ 11,  11,  11],\n",
       "        [ 14,  14,  14],\n",
       "        [ 16,  16,  16]],\n",
       "\n",
       "       [[124, 124, 124],\n",
       "        [ 91,  91,  91],\n",
       "        [ 70,  70,  70],\n",
       "        ...,\n",
       "        [ 11,  11,  11],\n",
       "        [ 14,  14,  14],\n",
       "        [ 17,  17,  17]],\n",
       "\n",
       "       [[110, 110, 110],\n",
       "        [ 85,  85,  85],\n",
       "        [ 68,  68,  68],\n",
       "        ...,\n",
       "        [ 10,  10,  10],\n",
       "        [ 12,  12,  12],\n",
       "        [ 17,  17,  17]]], dtype=uint8)"
      ]
     },
     "execution_count": 89,
     "metadata": {},
     "output_type": "execute_result"
    }
   ],
   "source": [
    "X_train[img_x]"
   ]
  },
  {
   "cell_type": "code",
   "execution_count": 90,
   "id": "4993c206",
   "metadata": {},
   "outputs": [
    {
     "ename": "SyntaxError",
     "evalue": "invalid syntax (2606194303.py, line 1)",
     "output_type": "error",
     "traceback": [
      "\u001b[1;36m  Input \u001b[1;32mIn [90]\u001b[1;36m\u001b[0m\n\u001b[1;33m    https://www.youtube.com/watch?v=cUHPL_dk17E\u001b[0m\n\u001b[1;37m          ^\u001b[0m\n\u001b[1;31mSyntaxError\u001b[0m\u001b[1;31m:\u001b[0m invalid syntax\n"
     ]
    }
   ],
   "source": [
    "https://www.youtube.com/watch?v=cUHPL_dk17E"
   ]
  },
  {
   "cell_type": "code",
   "execution_count": null,
   "id": "13219e8f",
   "metadata": {},
   "outputs": [],
   "source": []
  },
  {
   "cell_type": "code",
   "execution_count": null,
   "id": "9eb9a134",
   "metadata": {},
   "outputs": [],
   "source": []
  },
  {
   "cell_type": "code",
   "execution_count": null,
   "id": "56a3042f",
   "metadata": {},
   "outputs": [],
   "source": []
  },
  {
   "cell_type": "code",
   "execution_count": null,
   "id": "93da12be",
   "metadata": {},
   "outputs": [],
   "source": []
  },
  {
   "cell_type": "code",
   "execution_count": null,
   "id": "0a8862fd",
   "metadata": {},
   "outputs": [],
   "source": []
  },
  {
   "cell_type": "code",
   "execution_count": null,
   "id": "7ab9a885",
   "metadata": {},
   "outputs": [],
   "source": []
  },
  {
   "cell_type": "code",
   "execution_count": null,
   "id": "8b531ed4",
   "metadata": {},
   "outputs": [],
   "source": []
  },
  {
   "cell_type": "code",
   "execution_count": null,
   "id": "382107fb",
   "metadata": {},
   "outputs": [],
   "source": []
  },
  {
   "cell_type": "code",
   "execution_count": null,
   "id": "fef16d32",
   "metadata": {},
   "outputs": [],
   "source": []
  },
  {
   "cell_type": "code",
   "execution_count": null,
   "id": "8bd8a50d",
   "metadata": {},
   "outputs": [],
   "source": []
  },
  {
   "cell_type": "code",
   "execution_count": null,
   "id": "95bca27d",
   "metadata": {},
   "outputs": [],
   "source": []
  },
  {
   "cell_type": "code",
   "execution_count": null,
   "id": "4841169f",
   "metadata": {},
   "outputs": [],
   "source": []
  },
  {
   "cell_type": "code",
   "execution_count": null,
   "id": "2c3c4aef",
   "metadata": {},
   "outputs": [],
   "source": []
  },
  {
   "cell_type": "code",
   "execution_count": null,
   "id": "75ef2387",
   "metadata": {},
   "outputs": [],
   "source": []
  },
  {
   "cell_type": "code",
   "execution_count": null,
   "id": "3ca423fc",
   "metadata": {},
   "outputs": [],
   "source": []
  },
  {
   "cell_type": "code",
   "execution_count": null,
   "id": "437f1c2f",
   "metadata": {},
   "outputs": [],
   "source": []
  },
  {
   "cell_type": "code",
   "execution_count": null,
   "id": "65219f4b",
   "metadata": {},
   "outputs": [],
   "source": []
  },
  {
   "cell_type": "code",
   "execution_count": null,
   "id": "307da662",
   "metadata": {},
   "outputs": [],
   "source": []
  },
  {
   "cell_type": "code",
   "execution_count": null,
   "id": "170038fa",
   "metadata": {},
   "outputs": [],
   "source": []
  },
  {
   "cell_type": "code",
   "execution_count": null,
   "id": "6628d43b",
   "metadata": {},
   "outputs": [],
   "source": []
  },
  {
   "cell_type": "code",
   "execution_count": null,
   "id": "4e8241e1",
   "metadata": {},
   "outputs": [],
   "source": []
  },
  {
   "cell_type": "code",
   "execution_count": null,
   "id": "2b283bb4",
   "metadata": {},
   "outputs": [],
   "source": []
  },
  {
   "cell_type": "code",
   "execution_count": null,
   "id": "14115078",
   "metadata": {},
   "outputs": [],
   "source": []
  },
  {
   "cell_type": "code",
   "execution_count": null,
   "id": "381a9aac",
   "metadata": {},
   "outputs": [],
   "source": []
  },
  {
   "cell_type": "code",
   "execution_count": null,
   "id": "9bcbbd1f",
   "metadata": {},
   "outputs": [],
   "source": []
  },
  {
   "cell_type": "code",
   "execution_count": 4,
   "id": "ab235b9d",
   "metadata": {},
   "outputs": [],
   "source": [
    "from tensorflow.keras.layers import Input,Conv2D,MaxPooling2D,Conv2DTranspose\n",
    "from tensorflow.keras.layers import Lambda,Dropout,concatenate\n",
    "from tensorflow.keras import Model"
   ]
  },
  {
   "cell_type": "code",
   "execution_count": 5,
   "id": "9dfbe8a5",
   "metadata": {},
   "outputs": [],
   "source": [
    "img_width=128\n",
    "img_height=128\n",
    "img_channels=3"
   ]
  },
  {
   "cell_type": "markdown",
   "id": "25e1f1ee",
   "metadata": {},
   "source": [
    "# build the model"
   ]
  },
  {
   "cell_type": "code",
   "execution_count": 6,
   "id": "ee659b52",
   "metadata": {},
   "outputs": [],
   "source": [
    "inputs=Input((img_width,img_height,img_channels))"
   ]
  },
  {
   "cell_type": "code",
   "execution_count": 7,
   "id": "5f135ba6",
   "metadata": {},
   "outputs": [],
   "source": [
    "s=Lambda(lambda x:x/255)(inputs)\n",
    "\n",
    "#Contraction Path\n",
    "c1=Conv2D(16,(3,3),activation=\"relu\",kernel_initializer='he_normal',padding='same')(s)\n",
    "c1=Dropout(0.1)(c1)\n",
    "c1=Conv2D(16,(3,3),activation=\"relu\",kernel_initializer='he_normal',padding='same')(c1)\n",
    "p1=MaxPooling2D((2,2))(c1)\n",
    "\n",
    "c2=Conv2D(32,(3,3),activation=\"relu\",kernel_initializer='he_normal',padding='same')(p1)\n",
    "c2=Dropout(0.1)(c2)\n",
    "c2=Conv2D(32,(3,3),activation=\"relu\",kernel_initializer='he_normal',padding='same')(c2)\n",
    "p2=MaxPooling2D((2,2))(c2)\n",
    "\n",
    "c3=Conv2D(64,(3,3),activation=\"relu\",kernel_initializer='he_normal',padding='same')(p2)\n",
    "c3=Dropout(0.2)(c3)\n",
    "c3=Conv2D(64,(3,3),activation=\"relu\",kernel_initializer='he_normal',padding='same')(c3)\n",
    "p3=MaxPooling2D((2,2))(c3)\n",
    "\n",
    "c4=Conv2D(128,(3,3),activation=\"relu\",kernel_initializer='he_normal',padding='same')(p3)\n",
    "c4=Dropout(0.2)(c4)\n",
    "c4=Conv2D(128,(3,3),activation=\"relu\",kernel_initializer='he_normal',padding='same')(c4)\n",
    "p4=MaxPooling2D((2,2))(c4)\n",
    "\n",
    "c5=Conv2D(256,(3,3),activation=\"relu\",kernel_initializer='he_normal',padding='same')(p4)\n",
    "c5=Dropout(0.3)(c5)\n",
    "c5=Conv2D(256,(3,3),activation=\"relu\",kernel_initializer='he_normal',padding='same')(c5)\n",
    "\n",
    "#Expansive Path\n",
    "u6=Conv2DTranspose(128,(2,2),strides=(2,2),padding='same')(c5)\n",
    "u6=concatenate([u6,c4])\n",
    "c6=Conv2D(128,(3,3),activation='relu',kernel_initializer=\"he_normal\",padding='same')(u6)\n",
    "c6=Dropout(0.2)(c6)\n",
    "c6=Conv2D(128,(3,3),activation='relu',kernel_initializer=\"he_normal\",padding=\"same\")(c6)\n",
    "\n",
    "u7=Conv2DTranspose(64,(2,2),strides=(2,2),padding='same')(c6)\n",
    "u7=concatenate([u7,c3])\n",
    "c7=Conv2D(64,(3,3),activation='relu',kernel_initializer=\"he_normal\",padding='same')(u7)\n",
    "c7=Dropout(0.2)(c7)\n",
    "c7=Conv2D(64,(3,3),activation='relu',kernel_initializer=\"he_normal\",padding=\"same\")(c7)\n",
    "\n",
    "u8=Conv2DTranspose(32,(2,2),strides=(2,2),padding='same')(c7)\n",
    "u8=concatenate([u8,c2])\n",
    "c8=Conv2D(32,(3,3),activation='relu',kernel_initializer=\"he_normal\",padding='same')(u8)\n",
    "c8=Dropout(0.1)(c8)\n",
    "c8=Conv2D(32,(3,3),activation='relu',kernel_initializer=\"he_normal\",padding=\"same\")(c8)\n",
    "\n",
    "\n",
    "u9=Conv2DTranspose(16,(2,2),strides=(2,2),padding='same')(c8 )\n",
    "u9=concatenate([u9,c1],axis=3 )\n",
    "c9=Conv2D(16,(3,3),activation='relu',kernel_initializer=\"he_normal\",padding='same')(u9)\n",
    "c9=Dropout(0.1)(c9)\n",
    "c9=Conv2D(16,(3,3),activation='relu',kernel_initializer=\"he_normal\",padding=\"same\")(c9)\n",
    "\n",
    "outputs=Conv2D(1,(1,1),activation='sigmoid')(c9)\n",
    "model=Model(inputs=[inputs],outputs=[outputs])\n"
   ]
  },
  {
   "cell_type": "code",
   "execution_count": 8,
   "id": "40dee049",
   "metadata": {},
   "outputs": [
    {
     "name": "stdout",
     "output_type": "stream",
     "text": [
      "Model: \"model\"\n",
      "__________________________________________________________________________________________________\n",
      " Layer (type)                   Output Shape         Param #     Connected to                     \n",
      "==================================================================================================\n",
      " input_1 (InputLayer)           [(None, 128, 128, 3  0           []                               \n",
      "                                )]                                                                \n",
      "                                                                                                  \n",
      " lambda (Lambda)                (None, 128, 128, 3)  0           ['input_1[0][0]']                \n",
      "                                                                                                  \n",
      " conv2d (Conv2D)                (None, 128, 128, 16  448         ['lambda[0][0]']                 \n",
      "                                )                                                                 \n",
      "                                                                                                  \n",
      " dropout (Dropout)              (None, 128, 128, 16  0           ['conv2d[0][0]']                 \n",
      "                                )                                                                 \n",
      "                                                                                                  \n",
      " conv2d_1 (Conv2D)              (None, 128, 128, 16  2320        ['dropout[0][0]']                \n",
      "                                )                                                                 \n",
      "                                                                                                  \n",
      " max_pooling2d (MaxPooling2D)   (None, 64, 64, 16)   0           ['conv2d_1[0][0]']               \n",
      "                                                                                                  \n",
      " conv2d_2 (Conv2D)              (None, 64, 64, 32)   4640        ['max_pooling2d[0][0]']          \n",
      "                                                                                                  \n",
      " dropout_1 (Dropout)            (None, 64, 64, 32)   0           ['conv2d_2[0][0]']               \n",
      "                                                                                                  \n",
      " conv2d_3 (Conv2D)              (None, 64, 64, 32)   9248        ['dropout_1[0][0]']              \n",
      "                                                                                                  \n",
      " max_pooling2d_1 (MaxPooling2D)  (None, 32, 32, 32)  0           ['conv2d_3[0][0]']               \n",
      "                                                                                                  \n",
      " conv2d_4 (Conv2D)              (None, 32, 32, 64)   18496       ['max_pooling2d_1[0][0]']        \n",
      "                                                                                                  \n",
      " dropout_2 (Dropout)            (None, 32, 32, 64)   0           ['conv2d_4[0][0]']               \n",
      "                                                                                                  \n",
      " conv2d_5 (Conv2D)              (None, 32, 32, 64)   36928       ['dropout_2[0][0]']              \n",
      "                                                                                                  \n",
      " max_pooling2d_2 (MaxPooling2D)  (None, 16, 16, 64)  0           ['conv2d_5[0][0]']               \n",
      "                                                                                                  \n",
      " conv2d_6 (Conv2D)              (None, 16, 16, 128)  73856       ['max_pooling2d_2[0][0]']        \n",
      "                                                                                                  \n",
      " dropout_3 (Dropout)            (None, 16, 16, 128)  0           ['conv2d_6[0][0]']               \n",
      "                                                                                                  \n",
      " conv2d_7 (Conv2D)              (None, 16, 16, 128)  147584      ['dropout_3[0][0]']              \n",
      "                                                                                                  \n",
      " max_pooling2d_3 (MaxPooling2D)  (None, 8, 8, 128)   0           ['conv2d_7[0][0]']               \n",
      "                                                                                                  \n",
      " conv2d_8 (Conv2D)              (None, 8, 8, 256)    295168      ['max_pooling2d_3[0][0]']        \n",
      "                                                                                                  \n",
      " dropout_4 (Dropout)            (None, 8, 8, 256)    0           ['conv2d_8[0][0]']               \n",
      "                                                                                                  \n",
      " conv2d_9 (Conv2D)              (None, 8, 8, 256)    590080      ['dropout_4[0][0]']              \n",
      "                                                                                                  \n",
      " conv2d_transpose (Conv2DTransp  (None, 16, 16, 128)  131200     ['conv2d_9[0][0]']               \n",
      " ose)                                                                                             \n",
      "                                                                                                  \n",
      " concatenate (Concatenate)      (None, 16, 16, 256)  0           ['conv2d_transpose[0][0]',       \n",
      "                                                                  'conv2d_7[0][0]']               \n",
      "                                                                                                  \n",
      " conv2d_10 (Conv2D)             (None, 16, 16, 128)  295040      ['concatenate[0][0]']            \n",
      "                                                                                                  \n",
      " dropout_5 (Dropout)            (None, 16, 16, 128)  0           ['conv2d_10[0][0]']              \n",
      "                                                                                                  \n",
      " conv2d_11 (Conv2D)             (None, 16, 16, 128)  147584      ['dropout_5[0][0]']              \n",
      "                                                                                                  \n",
      " conv2d_transpose_1 (Conv2DTran  (None, 32, 32, 64)  32832       ['conv2d_11[0][0]']              \n",
      " spose)                                                                                           \n",
      "                                                                                                  \n",
      " concatenate_1 (Concatenate)    (None, 32, 32, 128)  0           ['conv2d_transpose_1[0][0]',     \n",
      "                                                                  'conv2d_5[0][0]']               \n",
      "                                                                                                  \n",
      " conv2d_12 (Conv2D)             (None, 32, 32, 64)   73792       ['concatenate_1[0][0]']          \n",
      "                                                                                                  \n",
      " dropout_6 (Dropout)            (None, 32, 32, 64)   0           ['conv2d_12[0][0]']              \n",
      "                                                                                                  \n",
      " conv2d_13 (Conv2D)             (None, 32, 32, 64)   36928       ['dropout_6[0][0]']              \n",
      "                                                                                                  \n",
      " conv2d_transpose_2 (Conv2DTran  (None, 64, 64, 32)  8224        ['conv2d_13[0][0]']              \n",
      " spose)                                                                                           \n",
      "                                                                                                  \n",
      " concatenate_2 (Concatenate)    (None, 64, 64, 64)   0           ['conv2d_transpose_2[0][0]',     \n",
      "                                                                  'conv2d_3[0][0]']               \n",
      "                                                                                                  \n",
      " conv2d_14 (Conv2D)             (None, 64, 64, 32)   18464       ['concatenate_2[0][0]']          \n",
      "                                                                                                  \n",
      " dropout_7 (Dropout)            (None, 64, 64, 32)   0           ['conv2d_14[0][0]']              \n",
      "                                                                                                  \n"
     ]
    },
    {
     "name": "stdout",
     "output_type": "stream",
     "text": [
      " conv2d_15 (Conv2D)             (None, 64, 64, 32)   9248        ['dropout_7[0][0]']              \n",
      "                                                                                                  \n",
      " conv2d_transpose_3 (Conv2DTran  (None, 128, 128, 16  2064       ['conv2d_15[0][0]']              \n",
      " spose)                         )                                                                 \n",
      "                                                                                                  \n",
      " concatenate_3 (Concatenate)    (None, 128, 128, 32  0           ['conv2d_transpose_3[0][0]',     \n",
      "                                )                                 'conv2d_1[0][0]']               \n",
      "                                                                                                  \n",
      " conv2d_16 (Conv2D)             (None, 128, 128, 16  4624        ['concatenate_3[0][0]']          \n",
      "                                )                                                                 \n",
      "                                                                                                  \n",
      " dropout_8 (Dropout)            (None, 128, 128, 16  0           ['conv2d_16[0][0]']              \n",
      "                                )                                                                 \n",
      "                                                                                                  \n",
      " conv2d_17 (Conv2D)             (None, 128, 128, 16  2320        ['dropout_8[0][0]']              \n",
      "                                )                                                                 \n",
      "                                                                                                  \n",
      " conv2d_18 (Conv2D)             (None, 128, 128, 1)  17          ['conv2d_17[0][0]']              \n",
      "                                                                                                  \n",
      "==================================================================================================\n",
      "Total params: 1,941,105\n",
      "Trainable params: 1,941,105\n",
      "Non-trainable params: 0\n",
      "__________________________________________________________________________________________________\n"
     ]
    }
   ],
   "source": [
    "model.compile(optimizer=\"adam\",loss=\"binary_crossentropy\",metrics=['accuracy'])\n",
    "model.summary()"
   ]
  },
  {
   "cell_type": "code",
   "execution_count": 10,
   "id": "8c9f7499",
   "metadata": {},
   "outputs": [
    {
     "ename": "TypeError",
     "evalue": "ModelCheckpoint.__init__() missing 1 required positional argument: 'filepath'",
     "output_type": "error",
     "traceback": [
      "\u001b[1;31m---------------------------------------------------------------------------\u001b[0m",
      "\u001b[1;31mTypeError\u001b[0m                                 Traceback (most recent call last)",
      "Input \u001b[1;32mIn [10]\u001b[0m, in \u001b[0;36m<module>\u001b[1;34m\u001b[0m\n\u001b[0;32m      1\u001b[0m \u001b[38;5;66;03m#Model Checkpoint\u001b[39;00m\n\u001b[0;32m      2\u001b[0m \u001b[38;5;28;01mfrom\u001b[39;00m \u001b[38;5;21;01mtensorflow\u001b[39;00m\u001b[38;5;21;01m.\u001b[39;00m\u001b[38;5;21;01mkeras\u001b[39;00m \u001b[38;5;28;01mimport\u001b[39;00m callbacks\n\u001b[1;32m----> 3\u001b[0m checkpointer\u001b[38;5;241m=\u001b[39m\u001b[43mcallbacks\u001b[49m\u001b[38;5;241;43m.\u001b[39;49m\u001b[43mModelCheckpoint\u001b[49m\u001b[43m(\u001b[49m\u001b[43m)\u001b[49m\n",
      "\u001b[1;31mTypeError\u001b[0m: ModelCheckpoint.__init__() missing 1 required positional argument: 'filepath'"
     ]
    }
   ],
   "source": [
    "#Model Checkpoint\n",
    "from tensorflow.keras import callbacks\n",
    "checkpointer=callbacks.ModelCheckpoint('model_for_nuclei.h5',verbose=1,save_best_only=True)\n",
    "callbacks=[\n",
    "    callbacks.EarlyStopping(patience=2,monitor='val_loss'),\n",
    "    callbacks.TensorBoard(log_dir='logs')\n",
    "            ]\n",
    "\n",
    " results=model.fit(X,Y,batch_size=16,validation_split=0.1,epochs=25,callbacks=callbacks)"
   ]
  },
  {
   "cell_type": "code",
   "execution_count": null,
   "id": "434bfe40",
   "metadata": {},
   "outputs": [],
   "source": []
  }
 ],
 "metadata": {
  "kernelspec": {
   "display_name": "Python 3 (ipykernel)",
   "language": "python",
   "name": "python3"
  },
  "language_info": {
   "codemirror_mode": {
    "name": "ipython",
    "version": 3
   },
   "file_extension": ".py",
   "mimetype": "text/x-python",
   "name": "python",
   "nbconvert_exporter": "python",
   "pygments_lexer": "ipython3",
   "version": "3.10.5"
  }
 },
 "nbformat": 4,
 "nbformat_minor": 5
}
